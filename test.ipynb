setwd("C:/Users/mky06/Documents")
data <- read.csv("기사제목(수원).csv")

head(data)
