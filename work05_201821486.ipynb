{
 "cells": [
  {
   "cell_type": "markdown",
   "metadata": {},
   "source": [
    "- 삼각형의 넓이를 구하는 함수를 작성하시오(파라미터는 \"및변의 길이\"와 \"높이\")\n",
    "- 사용자로부터 두개의 파라미터를 입력받고 출력한다."
   ]
  },
  {
   "cell_type": "code",
   "execution_count": 1,
   "metadata": {},
   "outputs": [
    {
     "name": "stdout",
     "output_type": "stream",
     "text": [
      "밑변의 길이를 입력해주세요5\n",
      "높이를 입력해주세요3\n",
      "7.5\n"
     ]
    }
   ],
   "source": [
    "def cal_tri(w,h):\n",
    "    return w * h / 2\n",
    "\n",
    "w = int(input(\"밑변의 길이를 입력해주세요\"))\n",
    "h = int(input(\"높이를 입력해주세요\"))\n",
    "\n",
    "print(cal_tri(w,h))\n"
   ]
  },
  {
   "cell_type": "markdown",
   "metadata": {},
   "source": [
    "- 리스트와 추가할 값을 파라미터로 받아서 해당 리스트에 파라미터로 입력받은 값을 파라미터로 입력받은 리스트에 추가하는 함수를 작성하시오\n",
    "- 리턴하는 것이 아니라 직접 변경해야 합니다."
   ]
  },
  {
   "cell_type": "code",
   "execution_count": 2,
   "metadata": {},
   "outputs": [
    {
     "name": "stdout",
     "output_type": "stream",
     "text": [
      "[0, 1]\n"
     ]
    }
   ],
   "source": [
    "def spam(eggs, add_agg):\n",
    "    #여기에 코드 넣기 \n",
    "    eggs.append(add_agg)\n",
    "    \n",
    "\n",
    "#아래는 수정하시지 마세요\n",
    "ham = [0]\n",
    "spam(ham, 1)\n",
    "print(ham)"
   ]
  },
  {
   "cell_type": "markdown",
   "metadata": {},
   "source": [
    "- 리스트와 추가할 값을 파라미터로 받아서 해당 리스트에 파라미터로 입력받은 값을 파라미터로 입력받은 리스트에 추가하여 return 하는 함수를 작성하시오\n",
    "- 원래의 변수는 그대로 보존해야 합니다."
   ]
  },
  {
   "cell_type": "code",
   "execution_count": 3,
   "metadata": {},
   "outputs": [
    {
     "name": "stdout",
     "output_type": "stream",
     "text": [
      "[0]\n",
      "[0, 1]\n"
     ]
    }
   ],
   "source": [
    "def spam(eggs, add_agg):  \n",
    "    #코드 수정(return 하도록)\n",
    "    eggs2=eggs[:]\n",
    "    eggs2.append(add_agg)\n",
    "    return eggs2\n",
    "    \n",
    "    \n",
    "\n",
    "#아래는 수정하시지 마세요\n",
    "ham = [0]\n",
    "ham2 = spam(ham, 1)\n",
    "print(ham)\n",
    "print(ham2)"
   ]
  },
  {
   "cell_type": "markdown",
   "metadata": {},
   "source": [
    "- 아래의 링크를 클릭하시면 폰노이만이 푼 문제가 나옵니다.(파리와 자전거)\n",
    "- 이문제를 재귀함수를 활용해서 문제를 풀어봅시다.\n",
    "- https://m.blog.naver.com/PostView.nhn?blogId=copymach&logNo=221016001486\n",
    "- 가장 남은 거리의 최소의 값은 2e-350 이며 이보다 작다면 0으로 보면 됩니다.\n",
    "- 파리가 부딛칠 때 까지의 거리를 계산하는 공식은 \"전체 거리 * 15 / (10+15)\" 입니다.\n",
    "- 전체거리를 입력받고 파리가 죽을때까지 난 거리를 구하면 됩니다."
   ]
  },
  {
   "cell_type": "code",
   "execution_count": 4,
   "metadata": {},
   "outputs": [
    {
     "name": "stdout",
     "output_type": "stream",
     "text": [
      "15.0\n"
     ]
    }
   ],
   "source": [
    "def bycycle(length):\n",
    "    if length > 2.77e-350:\n",
    "        #아래코드 수정  \n",
    "        run_length = length * 15 / (10+15)\n",
    "        remain_length = length - (length - run_length) * 2\n",
    "        return run_length + bycycle(remain_length)\n",
    "    else:\n",
    "        return 0    \n",
    "\n",
    "print(bycycle(20))"
   ]
  },
  {
   "cell_type": "markdown",
   "metadata": {},
   "source": [
    "- 위의 문제를 재귀함수를 사용하지 않고 푸는 함수를 만드세요"
   ]
  },
  {
   "cell_type": "code",
   "execution_count": 5,
   "metadata": {},
   "outputs": [
    {
     "name": "stdout",
     "output_type": "stream",
     "text": [
      "15.0\n"
     ]
    }
   ],
   "source": [
    "def bycycle(length):\n",
    "    #아래코드 수정    \n",
    "    time_byc = length/2/10\n",
    "    time_fly = time_byc * 15\n",
    "    return time_fly\n",
    "\n",
    "print(bycycle(20))"
   ]
  },
  {
   "cell_type": "code",
   "execution_count": 6,
   "metadata": {},
   "outputs": [
    {
     "name": "stdout",
     "output_type": "stream",
     "text": [
      "15.000000000000004\n"
     ]
    }
   ],
   "source": [
    "def bycycle(length):\n",
    "    #아래코드 수정 \n",
    "    total_length = 0\n",
    "    while True:\n",
    "        if length > 2.77e-350:\n",
    "            run_length = length * 15 / (10 + 15)\n",
    "            remain_length = length - ((length - run_length) * 2)\n",
    "            total_length += run_length\n",
    "            length = remain_length\n",
    "        else:\n",
    "            return total_length\n",
    "            break\n",
    "\n",
    "print(bycycle(20))"
   ]
  }
 ],
 "metadata": {
  "kernelspec": {
   "display_name": "Python 3",
   "language": "python",
   "name": "python3"
  },
  "language_info": {
   "codemirror_mode": {
    "name": "ipython",
    "version": 3
   },
   "file_extension": ".py",
   "mimetype": "text/x-python",
   "name": "python",
   "nbconvert_exporter": "python",
   "pygments_lexer": "ipython3",
   "version": "3.7.3"
  }
 },
 "nbformat": 4,
 "nbformat_minor": 2
}
